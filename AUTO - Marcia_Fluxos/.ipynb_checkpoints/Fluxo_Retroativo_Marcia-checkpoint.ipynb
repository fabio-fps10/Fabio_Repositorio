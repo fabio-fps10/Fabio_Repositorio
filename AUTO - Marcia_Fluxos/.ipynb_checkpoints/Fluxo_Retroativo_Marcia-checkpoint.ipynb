{
 "cells": [
  {
   "cell_type": "code",
   "execution_count": 16,
   "id": "c5289616-c8ea-46fd-809a-74f5a09afa69",
   "metadata": {
    "tags": []
   },
   "outputs": [],
   "source": [
    "import pandas as pd\n",
    "import os"
   ]
  },
  {
   "cell_type": "code",
   "execution_count": 17,
   "id": "831887f9-8cc8-40e9-b1f7-1f7c6b48b60c",
   "metadata": {
    "tags": []
   },
   "outputs": [],
   "source": [
    "mes_atual = 'mar'\n",
    "ultimo_domingo = 17\n",
    "meses = ['jan', 'fev', 'mar', 'abr', 'mai', 'jun', 'jul', 'ago', 'set', 'out', 'nov', 'dez']\n",
    "dict_cru = {}\n",
    "dict_MFs = {}\n",
    "dict_I8 = {}\n"
   ]
  },
  {
   "cell_type": "code",
   "execution_count": 18,
   "id": "98086bef-c24e-4b53-8be2-3003269cf6e6",
   "metadata": {
    "tags": []
   },
   "outputs": [],
   "source": [
    "df_fluxo_cru = pd.read_excel(f\"V:\\\\Vendas\\\\Acompanhamento Venda Semanais\\\\{mes_atual}_2024\\\\FLUXOS.xlsx\")"
   ]
  },
  {
   "cell_type": "code",
   "execution_count": 19,
   "id": "fbf21b9f-1aba-483c-92d6-3c592b0e2974",
   "metadata": {
    "tags": []
   },
   "outputs": [],
   "source": [
    "df_fluxo_V_MF_I8 = df_fluxo_cru[['Empreendimento','Dia','Mês','Mais Fluxo 2019','Mais Fluxo 2022','Mais Fluxo 2023','Mais Fluxo 2024','Iris 8 2019','Iris 8 2022','Iris 8 2023','Iris 8 2024']]\n"
   ]
  },
  {
   "cell_type": "code",
   "execution_count": 20,
   "id": "35d6b15e-5bae-4820-9f58-a8cdd056565a",
   "metadata": {
    "tags": []
   },
   "outputs": [],
   "source": [
    "for mes, dados in df_fluxo_V_MF_I8.groupby('Mês'):\n",
    "    dict_cru[mes] = dados\n",
    "    if mes == mes_atual:\n",
    "        dict_cru[mes] = dict_cru[mes][dict_cru[mes]['Dia'] <= ultimo_domingo].groupby(['Empreendimento','Mês']).sum(numeric_only=True)\n",
    "    else:\n",
    "        dict_cru[mes] = dict_cru[mes].groupby(['Empreendimento','Mês']).sum(numeric_only=True) \n",
    "df_fluxo_V_MF_I8 = pd.concat(dict_cru).reset_index()"
   ]
  },
  {
   "cell_type": "code",
   "execution_count": 21,
   "id": "b174057e-b3e6-4ede-a9ae-ecb89433cfb6",
   "metadata": {
    "tags": []
   },
   "outputs": [],
   "source": [
    "df_fluxo_V_MF_I8['Mês'] = pd.Categorical(df_fluxo_V_MF_I8['Mês'], categories = meses, ordered=True)\n",
    "df_fluxo_V_MF_I8 = df_fluxo_V_MF_I8.sort_values(['Empreendimento','Mês'])"
   ]
  },
  {
   "cell_type": "code",
   "execution_count": 22,
   "id": "dfe1a40c-a324-4f0a-9b08-224924b806c8",
   "metadata": {
    "tags": []
   },
   "outputs": [],
   "source": [
    "df_fluxo_V_MF_I8['24/19_(%)'] = ((df_fluxo_V_MF_I8['Mais Fluxo 2024']/df_fluxo_V_MF_I8['Mais Fluxo 2019'])-1)\n",
    "df_fluxo_V_MF_I8['24/22_(%)'] = ((df_fluxo_V_MF_I8['Mais Fluxo 2024']/df_fluxo_V_MF_I8['Mais Fluxo 2022'])-1)\n",
    "df_fluxo_V_MF_I8['24/23_(%)'] = ((df_fluxo_V_MF_I8['Mais Fluxo 2024']/df_fluxo_V_MF_I8['Mais Fluxo 2023'])-1)\n",
    "\n",
    "df_fluxo_V_MF_I8['24/22(%)'] = ((df_fluxo_V_MF_I8['Iris 8 2024']/df_fluxo_V_MF_I8['Iris 8 2022'])-1)\n",
    "df_fluxo_V_MF_I8['24/23(%)'] = ((df_fluxo_V_MF_I8['Iris 8 2024']/df_fluxo_V_MF_I8['Iris 8 2023'])-1)"
   ]
  },
  {
   "cell_type": "code",
   "execution_count": 23,
   "id": "05a4a96c-ac97-447e-8f34-d08410bb4c59",
   "metadata": {
    "tags": []
   },
   "outputs": [],
   "source": [
    "for empreendimento, dados in df_fluxo_V_MF_I8.groupby('Empreendimento'):\n",
    "    dict_MFs[empreendimento] = dados[['Empreendimento','Mês','Mais Fluxo 2019','Mais Fluxo 2022','Mais Fluxo 2023','Mais Fluxo 2024','24/19_(%)','24/22_(%)','24/23_(%)']]\n",
    "    dict_I8[empreendimento] = dados[['Empreendimento','Mês','Iris 8 2022','Iris 8 2023','Iris 8 2024','24/22(%)','24/23(%)']]"
   ]
  },
  {
   "cell_type": "code",
   "execution_count": 24,
   "id": "10d7fe7b-6962-4140-98ce-efae6fbafad4",
   "metadata": {
    "tags": []
   },
   "outputs": [],
   "source": [
    "nome_arquivo = 'Fluxo_Marcia.xlsx'\n",
    "diretorio = r'C:\\Users\\fabio.souza\\Desktop\\Day\\Fluxo Marcia'  # Diretório onde você tem permissões de escrita\n",
    "caminho_arquivo_final = os.path.join(diretorio, nome_arquivo)\n",
    "\n",
    "with pd.ExcelWriter(caminho_arquivo_final, engine='xlsxwriter') as writer:\n",
    "\n",
    "        #### ABA 1 ####\n",
    "        # Mais Fluxo\n",
    "        dict_MFs['Cascavel JL Shopping'].to_excel(writer, sheet_name='Mais Fluxos', startrow=3, startcol=1, index=False)\n",
    "        dict_MFs['Parque Shopping Barueri'].to_excel(writer, sheet_name='Mais Fluxos', startrow=3, startcol=11, index=False)\n",
    "        dict_MFs['Parque Shopping Maia'].to_excel(writer, sheet_name='Mais Fluxos', startrow=3, startcol=21, index=False)\n",
    "        \n",
    "        dict_MFs['Shopping Bonsucesso'].to_excel(writer, sheet_name='Mais Fluxos', startrow=19, startcol=1, index=False)\n",
    "        dict_MFs['Shopping do Vale'].to_excel(writer, sheet_name='Mais Fluxos', startrow=19, startcol=11, index=False)\n",
    "        dict_MFs['Unimart Shopping'].to_excel(writer, sheet_name='Mais Fluxos', startrow=19, startcol=21, index=False)\n",
    "        \n",
    "        dict_MFs['Parque Shopping Sulacap'].to_excel(writer, sheet_name='Mais Fluxos', startrow=35, startcol=1, index=False)\n",
    "        \n",
    "        \n",
    "        #### ABA 2 ####\n",
    "        # Iris 8\n",
    "        dict_I8['Outlet Premium São Paulo'].to_excel(writer, sheet_name='Iris 8', startrow=3, startcol=1, index=False)\n",
    "        dict_I8['Outlet Premium Rio de Janeiro'].to_excel(writer, sheet_name='Iris 8', startrow=3, startcol=9, index=False)\n",
    "        dict_I8['Outlet Premium Brasilia'].to_excel(writer, sheet_name='Iris 8', startrow=3, startcol=17, index=False)\n",
    "        \n",
    "        dict_I8['Outlet Premium Salvador'].to_excel(writer, sheet_name='Iris 8', startrow=19, startcol=1, index=False)\n",
    "        dict_I8['Outlet Premium Grande São Paulo'].to_excel(writer, sheet_name='Iris 8', startrow=19, startcol=9, index=False)\n",
    "        dict_I8['Parque Shopping Barueri'].to_excel(writer, sheet_name='Iris 8', startrow=19, startcol=17, index=False)\n",
    "        \n",
    "        dict_I8['Parque Shopping Maia'].to_excel(writer, sheet_name='Iris 8', startrow=35, startcol=1, index=False)\n",
    "        dict_I8['Parque Shopping Sulacap'].to_excel(writer, sheet_name='Iris 8', startrow=35, startcol=9, index=False)\n",
    "        dict_I8['Shopping Bonsucesso'].to_excel(writer, sheet_name='Iris 8', startrow=35, startcol=17, index=False)\n",
    "     \n"
   ]
  },
  {
   "cell_type": "code",
   "execution_count": null,
   "id": "87965d75-5312-498d-862c-3ac561ff8431",
   "metadata": {},
   "outputs": [],
   "source": []
  }
 ],
 "metadata": {
  "kernelspec": {
   "display_name": "Python 3 (ipykernel)",
   "language": "python",
   "name": "python3"
  },
  "language_info": {
   "codemirror_mode": {
    "name": "ipython",
    "version": 3
   },
   "file_extension": ".py",
   "mimetype": "text/x-python",
   "name": "python",
   "nbconvert_exporter": "python",
   "pygments_lexer": "ipython3",
   "version": "3.11.5"
  }
 },
 "nbformat": 4,
 "nbformat_minor": 5
}
